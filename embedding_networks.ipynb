{
 "cells": [
  {
   "cell_type": "code",
   "execution_count": 2,
   "id": "04d550bf-a9be-4d13-b8f4-360cda3ac5ae",
   "metadata": {
    "tags": []
   },
   "outputs": [
    {
     "data": {
      "text/html": [
       "<h3>Version Information</h3><table><tr><th>Software</th><th>Version</th></tr><tr><td><code>qiskit</code></td><td>0.44.0</td></tr><tr><td><code>qiskit-terra</code></td><td>0.25.0</td></tr><tr><th colspan='2'>System information</th></tr><tr><td>Python version</td><td>3.10.8</td></tr><tr><td>Python compiler</td><td>GCC 10.4.0</td></tr><tr><td>Python build</td><td>main, Nov 22 2022 08:26:04</td></tr><tr><td>OS</td><td>Linux</td></tr><tr><td>CPUs</td><td>8</td></tr><tr><td>Memory (Gb)</td><td>31.211322784423828</td></tr><tr><td colspan='2'>Sun Sep 03 21:27:26 2023 UTC</td></tr></table>"
      ],
      "text/plain": [
       "<IPython.core.display.HTML object>"
      ]
     },
     "metadata": {},
     "output_type": "display_data"
    }
   ],
   "source": [
    "import qiskit.tools.jupyter\n",
    "\n",
    "%qiskit_version_table"
   ]
  },
  {
   "cell_type": "code",
   "execution_count": 3,
   "id": "81eecab8-ee7f-49a7-ab87-753fdcfbe191",
   "metadata": {
    "tags": []
   },
   "outputs": [],
   "source": [
    "# Running checks for the correct dependencies\n",
    "import qiskit\n",
    "from packaging import version\n",
    "\n",
    "if not (\n",
    "    version.parse(qiskit.__qiskit_version__[\"qiskit-terra\"]) >= version.parse(\"0.22\")\n",
    "):\n",
    "    print(\n",
    "        \"Incorrect dependencies. Found qiskit-terra: \"\n",
    "        + qiskit.__qiskit_version__[\"qiskit-terra\"]\n",
    "        + \"\\nNeed qiskit-terra >= 0.22\"\n",
    "    )\n",
    "\n",
    "try:\n",
    "    import qiskit_ibm_provider\n",
    "except ModuleNotFoundError:\n",
    "    print(\n",
    "        \"You must install the qiskit_ibm_provider with 'pip install qiskit_ibm_provider'\"\n",
    "    )\n",
    "    raise"
   ]
  },
  {
   "cell_type": "code",
   "execution_count": 4,
   "id": "f8d5a528-19a0-46ff-b937-3f5fa33fc585",
   "metadata": {
    "tags": []
   },
   "outputs": [],
   "source": [
    "# Ignoring warnings\n",
    "import sys\n",
    "import warnings\n",
    "\n",
    "if not sys.warnoptions:\n",
    "    warnings.simplefilter(\"ignore\")"
   ]
  },
  {
   "cell_type": "code",
   "execution_count": 5,
   "id": "d12f9250-41ff-4eb5-b358-e74ab3ff1321",
   "metadata": {
    "tags": []
   },
   "outputs": [],
   "source": [
    "# Note: This can be any hub/group/project that has access to the required device and the Qiskit runtime.\n",
    "hub = \"ibm-q\"\n",
    "group = \"open\"\n",
    "project = \"main\"\n",
    "backend_name = \"ibm_perth\"\n",
    "hgp = f\"{hub}/{group}/{project}\""
   ]
  },
  {
   "cell_type": "code",
   "execution_count": 6,
   "id": "533bcf5e-56dc-4581-87d5-d450b46c34aa",
   "metadata": {
    "tags": []
   },
   "outputs": [
    {
     "name": "stdout",
     "output_type": "stream",
     "text": [
      "Using backend ibm_perth\n"
     ]
    }
   ],
   "source": [
    "import qiskit\n",
    "from qiskit_ibm_provider import IBMProvider\n",
    "\n",
    "# Save token if necessary\n",
    "IBMProvider.save_account(overwrite=True,token='43ffbc7a7699d13ce556fa8dc0120ee0b01530c3d436862a7b067c38ef812ae90314c62a544085b73364e7ed6bd3c1e0dd6d727edd99f085c136567123b8edd7')\n",
    "\n",
    "# Get our backend\n",
    "provider = IBMProvider()\n",
    "available_backends = provider.backends()\n",
    "backend = provider.get_backend(backend_name, instance=hgp)\n",
    "print(f\"Using backend {backend.name}\")"
   ]
  },
  {
   "cell_type": "code",
   "execution_count": 7,
   "id": "6f437d11-21dc-4ef6-b9d3-edbc119638f8",
   "metadata": {
    "tags": []
   },
   "outputs": [
    {
     "name": "stdout",
     "output_type": "stream",
     "text": [
      "The following backends support dynamic circuits: {'ibm_nairobi', 'ibmq_manila', 'ibm_lagos', 'ibmq_jakarta', 'ibm_perth'}\n"
     ]
    }
   ],
   "source": [
    "#backend names that support dynamic circuits\n",
    "qasm3_backends = set(\n",
    "    backend.name for backend in provider.backends(dynamic_circuits=True)\n",
    ")\n",
    "\n",
    "print(f\"The following backends support dynamic circuits: {qasm3_backends}\")"
   ]
  },
  {
   "cell_type": "code",
   "execution_count": 8,
   "id": "b5e7e472-dca4-4e32-b52b-913bd46a9d15",
   "metadata": {
    "tags": []
   },
   "outputs": [],
   "source": [
    "qubit = 0\n",
    "shots = 1000"
   ]
  },
  {
   "cell_type": "code",
   "execution_count": 11,
   "id": "9fdc2dc2-751e-4a60-ac81-61fae76eecf9",
   "metadata": {
    "tags": []
   },
   "outputs": [
    {
     "data": {
      "image/png": "[encoded data removed]",
      "text/plain": [
       "<Figure size 269.064x200.667 with 1 Axes>"
      ]
     },
     "execution_count": 11,
     "metadata": {},
     "output_type": "execute_result"
    }
   ],
   "source": [
    "from qiskit import QuantumCircuit\n",
    "\n",
    "#build a quantum circuit with one qubit\n",
    "#consists of a single Hadamard gate and a measurement\n",
    "qc_1 = QuantumCircuit(1, 1, name=\"|+> Prep\")\n",
    "qc_1.h(0)\n",
    "qc_1.measure(0, 0)\n",
    "qc_1.draw(idle_wires=False, output=\"mpl\")"
   ]
  },
  {
   "cell_type": "code",
   "execution_count": 27,
   "id": "4f4fd16c-6ef9-4192-b60d-c4063ff9d7b3",
   "metadata": {
    "tags": []
   },
   "outputs": [
    {
     "data": {
      "image/png": "[encoded data removed]",
      "text/plain": [
       "<Figure size 454.517x284.278 with 1 Axes>"
      ]
     },
     "execution_count": 27,
     "metadata": {},
     "output_type": "execute_result"
    }
   ],
   "source": [
    "#build a quantum circuit consisting of two qubits\n",
    "#there is a Hadamard gate and a CX gate\n",
    "qc_2 = QuantumCircuit(2, 2)\n",
    "qc_2.h(0)\n",
    "qc_2.cx(0, 1)\n",
    "qc_2.measure([0, 1], [0, 1])\n",
    "qc_2.draw('mpl')"
   ]
  },
  {
   "cell_type": "code",
   "execution_count": 31,
   "id": "702237ec-f3ff-4782-8ee2-388d550f60ce",
   "metadata": {
    "tags": []
   },
   "outputs": [
    {
     "data": {
      "image/png": "[encoded data removed]",
      "text/plain": [
       "<Figure size 621.941x367.889 with 1 Axes>"
      ]
     },
     "execution_count": 31,
     "metadata": {},
     "output_type": "execute_result"
    }
   ],
   "source": [
    "#build a quantum circuit consisting of three qubits\n",
    "#there is a Hadamard gate and a CX gate\n",
    "qc_3 = QuantumCircuit(3, 3)\n",
    "qc_3.h(0)\n",
    "qc_3.cx(0, 1)\n",
    "qc_3.cx(1, 2)\n",
    "qc_3.measure([0, 1, 2], [0, 1, 2])\n",
    "qc_3.draw('mpl')"
   ]
  },
  {
   "cell_type": "code",
   "execution_count": 25,
   "id": "a382b827-9955-4f8b-9605-2559a0c7f186",
   "metadata": {
    "tags": []
   },
   "outputs": [
    {
     "data": {
      "image/png": "[encoded data removed]",
      "text/plain": [
       "<Figure size 506.593x200.667 with 1 Axes>"
      ]
     },
     "execution_count": 25,
     "metadata": {},
     "output_type": "execute_result"
    }
   ],
   "source": [
    "from qiskit import transpile\n",
    "\n",
    "#compile circuit h_qc with single qubit\n",
    "qc_1_transpiled = transpile(qc_1, backend, initial_layout=[0])\n",
    "qc_1_transpiled.draw(idle_wires=False, output=\"mpl\")"
   ]
  },
  {
   "cell_type": "code",
   "execution_count": 24,
   "id": "18b0bc6c-0ee7-405c-84b6-5ac304ccbf6c",
   "metadata": {
    "tags": []
   },
   "outputs": [
    {
     "data": {
      "image/png": "[encoded data removed]",
      "text/plain": [
       "<Figure size 674.219x284.278 with 1 Axes>"
      ]
     },
     "execution_count": 24,
     "metadata": {},
     "output_type": "execute_result"
    }
   ],
   "source": [
    "#compile circuit with two qubits\n",
    "qc_2_transpiled = transpile(qc_2, backend, initial_layout=[0,1])\n",
    "qc_2_transpiled.draw(idle_wires=False, output=\"mpl\")"
   ]
  },
  {
   "cell_type": "code",
   "execution_count": 32,
   "id": "b0dbd419-e781-4723-91a1-e43549e9f60c",
   "metadata": {
    "tags": []
   },
   "outputs": [
    {
     "data": {
      "image/png": "[encoded data removed]",
      "text/plain": [
       "<Figure size 841.845x367.889 with 1 Axes>"
      ]
     },
     "execution_count": 32,
     "metadata": {},
     "output_type": "execute_result"
    }
   ],
   "source": [
    "#compile circuit with two qubits\n",
    "qc_3_transpiled = transpile(qc_3, backend, initial_layout=[0,1,2])\n",
    "qc_3_transpiled.draw(idle_wires=False, output=\"mpl\")"
   ]
  },
  {
   "cell_type": "code",
   "execution_count": 33,
   "id": "4b4b2205-db3b-40f0-9c7f-a93044794706",
   "metadata": {
    "tags": []
   },
   "outputs": [
    {
     "name": "stdout",
     "output_type": "stream",
     "text": [
      "Your job's id: cjqgs4a7b8jcak4hgn9g\n",
      "|+> preparation results: {'000': 497, '001': 9, '010': 3, '011': 11, '100': 8, '101': 5, '110': 27, '111': 440}\n"
     ]
    }
   ],
   "source": [
    "job = backend.run(qc_3_transpiled, shots=shots, dynamic=True)\n",
    "print(f\"Your job's id: {job.job_id()}\")\n",
    "result = job.result()\n",
    "print(f\"|+> preparation results: {result.get_counts(0)}\")"
   ]
  },
  {
   "cell_type": "code",
   "execution_count": 13,
   "id": "8869fa50-c81b-44c9-9eb8-02ed82f85cc4",
   "metadata": {
    "tags": []
   },
   "outputs": [],
   "source": [
    "job.error_message()"
   ]
  },
  {
   "cell_type": "code",
   "execution_count": 14,
   "id": "c321ecb0-d6bc-4104-9965-42092853b58f",
   "metadata": {
    "tags": []
   },
   "outputs": [
    {
     "data": {
      "text/html": [
       "<h3>Version Information</h3><table><tr><th>Software</th><th>Version</th></tr><tr><td><code>qiskit</code></td><td>0.44.0</td></tr><tr><td><code>qiskit-terra</code></td><td>0.25.0</td></tr><tr><td><code>qiskit_finance</code></td><td>0.3.4</td></tr><tr><td><code>qiskit_machine_learning</code></td><td>0.6.1</td></tr><tr><td><code>qiskit_nature</code></td><td>0.6.2</td></tr><tr><td><code>qiskit_ibm_provider</code></td><td>0.6.3</td></tr><tr><td><code>qiskit_optimization</code></td><td>0.5.0</td></tr><tr><td><code>qiskit_aer</code></td><td>0.12.2</td></tr><tr><th colspan='2'>System information</th></tr><tr><td>Python version</td><td>3.10.8</td></tr><tr><td>Python compiler</td><td>GCC 10.4.0</td></tr><tr><td>Python build</td><td>main, Nov 22 2022 08:26:04</td></tr><tr><td>OS</td><td>Linux</td></tr><tr><td>CPUs</td><td>8</td></tr><tr><td>Memory (Gb)</td><td>31.211318969726562</td></tr><tr><td colspan='2'>Sun Sep 03 16:26:28 2023 UTC</td></tr></table>"
      ],
      "text/plain": [
       "<IPython.core.display.HTML object>"
      ]
     },
     "metadata": {},
     "output_type": "display_data"
    }
   ],
   "source": [
    "import qiskit.tools.jupyter\n",
    "\n",
    "%qiskit_version_table"
   ]
  },
  {
   "cell_type": "code",
   "execution_count": null,
   "id": "4430e85c-d703-4bfa-b172-2ecca5ddbf89",
   "metadata": {},
   "outputs": [],
   "source": []
  }
 ],
 "metadata": {
  "kernelspec": {
   "display_name": "Python 3 (ipykernel)",
   "language": "python",
   "name": "python3"
  },
  "language_info": {
   "codemirror_mode": {
    "name": "ipython",
    "version": 3
   },
   "file_extension": ".py",
   "mimetype": "text/x-python",
   "name": "python",
   "nbconvert_exporter": "python",
   "pygments_lexer": "ipython3",
   "version": "3.10.8"
  },
  "widgets": {
   "application/vnd.jupyter.widget-state+json": {
    "state": {
     "1cd0c388a9264c0b9434fa2b8d57122d": {
      "model_module": "@jupyter-widgets/base",
      "model_module_version": "2.0.0",
      "model_name": "LayoutModel",
      "state": {
       "width": "70px"
      }
     },
     "21d8072157344621856f868adfca6aa0": {
      "model_module": "@jupyter-widgets/base",
      "model_module_version": "2.0.0",
      "model_name": "LayoutModel",
      "state": {
       "width": "190px"
      }
     },
     "251af4ef2cc84cf9ada228319a799fa2": {
      "model_module": "@jupyter-widgets/controls",
      "model_module_version": "2.0.0",
      "model_name": "HTMLStyleModel",
      "state": {
       "description_width": "",
       "font_size": null,
       "text_color": null
      }
     },
     "2acd2542447e4e688e429adb87d488bd": {
      "model_module": "@jupyter-widgets/base",
      "model_module_version": "2.0.0",
      "model_name": "LayoutModel",
      "state": {
       "grid_area": "right",
       "padding": "0px 0px 0px 0px",
       "width": "70px"
      }
     },
     "2f862e1ba4f64e63818391c103138804": {
      "model_module": "@jupyter-widgets/controls",
      "model_module_version": "2.0.0",
      "model_name": "ButtonStyleModel",
      "state": {
       "font_family": null,
       "font_size": null,
       "font_style": null,
       "font_variant": null,
       "font_weight": null,
       "text_color": null,
       "text_decoration": null
      }
     },
     "481d9425c93e4ae0a22f97511ed5c345": {
      "model_module": "@jupyter-widgets/base",
      "model_module_version": "2.0.0",
      "model_name": "LayoutModel",
      "state": {
       "margin": "0px 0px 10px 0px"
      }
     },
     "54820dd0d21e41398e163173976978ab": {
      "model_module": "@jupyter-widgets/base",
      "model_module_version": "2.0.0",
      "model_name": "LayoutModel",
      "state": {
       "margin": "0px 0px 0px 37px",
       "width": "600px"
      }
     },
     "584ab5ec11484acba79a766e83db0c00": {
      "model_module": "@jupyter-widgets/controls",
      "model_module_version": "2.0.0",
      "model_name": "HTMLModel",
      "state": {
       "layout": "IPY_MODEL_ce906a9b87754cd48c2cacb9b66163d5",
       "style": "IPY_MODEL_251af4ef2cc84cf9ada228319a799fa2",
       "value": "<h5>Backend</h5>"
      }
     },
     "6a65082aef65499692bd2ca42f0d069c": {
      "model_module": "@jupyter-widgets/controls",
      "model_module_version": "2.0.0",
      "model_name": "HTMLStyleModel",
      "state": {
       "description_width": "",
       "font_size": null,
       "text_color": null
      }
     },
     "726ecd8307864adcbcca43073ccd444f": {
      "model_module": "@jupyter-widgets/controls",
      "model_module_version": "2.0.0",
      "model_name": "HTMLStyleModel",
      "state": {
       "description_width": "",
       "font_size": null,
       "text_color": null
      }
     },
     "89d2a8c647b2474abd739fccca16b402": {
      "model_module": "@jupyter-widgets/base",
      "model_module_version": "2.0.0",
      "model_name": "LayoutModel",
      "state": {
       "grid_template_areas": "\n                                       \". . . . right \"\n                                        ",
       "grid_template_columns": "20% 20% 20% 20% 20%",
       "width": "100%"
      }
     },
     "9439097d4bd7438d8dc844ea37355be6": {
      "model_module": "@jupyter-widgets/controls",
      "model_module_version": "2.0.0",
      "model_name": "GridBoxModel",
      "state": {
       "children": [
        "IPY_MODEL_f1fae0db9b6b411fad5bcba5bd9a119d"
       ],
       "layout": "IPY_MODEL_89d2a8c647b2474abd739fccca16b402"
      }
     },
     "9a9af1e2a66043e1b9380945461e2f56": {
      "model_module": "@jupyter-widgets/controls",
      "model_module_version": "2.0.0",
      "model_name": "HTMLStyleModel",
      "state": {
       "description_width": "",
       "font_size": null,
       "text_color": null
      }
     },
     "a47764d447df4790a313ae6ed78edd42": {
      "model_module": "@jupyter-widgets/controls",
      "model_module_version": "2.0.0",
      "model_name": "HTMLModel",
      "state": {
       "layout": "IPY_MODEL_fe77f0c51ab54686b63240b0d1a77a18",
       "style": "IPY_MODEL_b269c8b143874d31a6c86723b3c8a27e",
       "value": "<h5>Message</h5>"
      }
     },
     "b269c8b143874d31a6c86723b3c8a27e": {
      "model_module": "@jupyter-widgets/controls",
      "model_module_version": "2.0.0",
      "model_name": "HTMLStyleModel",
      "state": {
       "description_width": "",
       "font_size": null,
       "text_color": null
      }
     },
     "b78cd0bfd58a4c80ac7f46bc1a67de0a": {
      "model_module": "@jupyter-widgets/controls",
      "model_module_version": "2.0.0",
      "model_name": "HTMLModel",
      "state": {
       "layout": "IPY_MODEL_21d8072157344621856f868adfca6aa0",
       "style": "IPY_MODEL_9a9af1e2a66043e1b9380945461e2f56",
       "value": "<h5>Job ID</h5>"
      }
     },
     "b970524928cc453494978a42cd437c1c": {
      "model_module": "@jupyter-widgets/controls",
      "model_module_version": "2.0.0",
      "model_name": "HTMLModel",
      "state": {
       "layout": "IPY_MODEL_f6859a2c9afa4345b131310ea0541205",
       "style": "IPY_MODEL_726ecd8307864adcbcca43073ccd444f",
       "value": "<h5>Status</h5>"
      }
     },
     "bfe1354762fe4df994cccf9efec9602d": {
      "model_module": "@jupyter-widgets/controls",
      "model_module_version": "2.0.0",
      "model_name": "HBoxModel",
      "state": {
       "children": [
        "IPY_MODEL_b78cd0bfd58a4c80ac7f46bc1a67de0a",
        "IPY_MODEL_584ab5ec11484acba79a766e83db0c00",
        "IPY_MODEL_b970524928cc453494978a42cd437c1c",
        "IPY_MODEL_fd703e32be6a43e48745a169042c45c9",
        "IPY_MODEL_a47764d447df4790a313ae6ed78edd42"
       ],
       "layout": "IPY_MODEL_54820dd0d21e41398e163173976978ab"
      }
     },
     "ce906a9b87754cd48c2cacb9b66163d5": {
      "model_module": "@jupyter-widgets/base",
      "model_module_version": "2.0.0",
      "model_name": "LayoutModel",
      "state": {
       "width": "145px"
      }
     },
     "d764c14cd30f402093eef147675cc201": {
      "model_module": "@jupyter-widgets/controls",
      "model_module_version": "2.0.0",
      "model_name": "HTMLStyleModel",
      "state": {
       "description_width": "",
       "font_size": null,
       "text_color": null
      }
     },
     "f1fae0db9b6b411fad5bcba5bd9a119d": {
      "model_module": "@jupyter-widgets/controls",
      "model_module_version": "2.0.0",
      "model_name": "ButtonModel",
      "state": {
       "button_style": "primary",
       "description": "Clear",
       "layout": "IPY_MODEL_2acd2542447e4e688e429adb87d488bd",
       "style": "IPY_MODEL_2f862e1ba4f64e63818391c103138804",
       "tooltip": null
      }
     },
     "f6859a2c9afa4345b131310ea0541205": {
      "model_module": "@jupyter-widgets/base",
      "model_module_version": "2.0.0",
      "model_name": "LayoutModel",
      "state": {
       "width": "95px"
      }
     },
     "fc89f92af9d0456aa79c0f3f7a4258e3": {
      "model_module": "@jupyter-widgets/controls",
      "model_module_version": "2.0.0",
      "model_name": "HTMLModel",
      "state": {
       "layout": "IPY_MODEL_481d9425c93e4ae0a22f97511ed5c345",
       "style": "IPY_MODEL_6a65082aef65499692bd2ca42f0d069c",
       "value": "<p style='font-family: IBM Plex Sans, Arial, Helvetica, sans-serif; font-size: 20px; font-weight: medium;'>Circuit Properties</p>"
      }
     },
     "fd703e32be6a43e48745a169042c45c9": {
      "model_module": "@jupyter-widgets/controls",
      "model_module_version": "2.0.0",
      "model_name": "HTMLModel",
      "state": {
       "layout": "IPY_MODEL_1cd0c388a9264c0b9434fa2b8d57122d",
       "style": "IPY_MODEL_d764c14cd30f402093eef147675cc201",
       "value": "<h5>Queue</h5>"
      }
     },
     "fe77f0c51ab54686b63240b0d1a77a18": {
      "model_module": "@jupyter-widgets/base",
      "model_module_version": "2.0.0",
      "model_name": "LayoutModel",
      "state": {}
     }
    },
    "version_major": 2,
    "version_minor": 0
   }
  }
 },
 "nbformat": 4,
 "nbformat_minor": 5
}
